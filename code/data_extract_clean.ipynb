{
 "cells": [
  {
   "cell_type": "code",
   "execution_count": 1,
   "metadata": {
    "ExecuteTime": {
     "end_time": "2020-08-02T20:48:28.335321Z",
     "start_time": "2020-08-02T20:48:27.810503Z"
    }
   },
   "outputs": [],
   "source": [
    "from sqlalchemy import create_engine\n",
    "import pandas as pd\n",
    "import numpy as np"
   ]
  },
  {
   "cell_type": "markdown",
   "metadata": {},
   "source": [
    "## Extract Data"
   ]
  },
  {
   "cell_type": "markdown",
   "metadata": {},
   "source": [
    "My data was housed on a remote Postgresql server after downloading. This notebook goes through extracting relevant information for my analysis and cleaning it up to be used for the classification problem."
   ]
  },
  {
   "cell_type": "code",
   "execution_count": null,
   "metadata": {},
   "outputs": [],
   "source": [
    "cnx = create_engine('postgresql://ubuntu@3.22.54.86:5432/project_3')"
   ]
  },
  {
   "cell_type": "markdown",
   "metadata": {},
   "source": [
    "### Student data"
   ]
  },
  {
   "cell_type": "code",
   "execution_count": 2,
   "metadata": {
    "ExecuteTime": {
     "end_time": "2020-08-02T20:48:28.950951Z",
     "start_time": "2020-08-02T20:48:28.338247Z"
    }
   },
   "outputs": [],
   "source": [
    "student_info = pd.read_sql_query('''SELECT * FROM student_info WHERE code_module = 'FFF' ''', cnx)"
   ]
  },
  {
   "cell_type": "markdown",
   "metadata": {},
   "source": [
    "### Assessment data"
   ]
  },
  {
   "cell_type": "code",
   "execution_count": 3,
   "metadata": {
    "ExecuteTime": {
     "end_time": "2020-08-02T20:48:29.376775Z",
     "start_time": "2020-08-02T20:48:28.954751Z"
    }
   },
   "outputs": [],
   "source": [
    "assessment_info = pd.read_sql_query('''with ad as\n",
    "                                        (select *, assessment_type || '_' || rank() over(partition by \n",
    "                                            code_module, code_presentation, assessment_type order by id_assessment) as test_order\n",
    "                                        from assessments where code_module = 'FFF')\n",
    "                                        \n",
    "                                        select sa.id_student || '_' || ad.code_module || '_' || ad.code_presentation as unique_id, ad.test_order, sa.date_submitted,\n",
    "                                            ad.date_days as deadline, sa.score\n",
    "                                        from student_assessment sa left join ad on sa.id_assessment = ad.id_assessment\n",
    "                                        where code_module='FFF' ''', cnx)"
   ]
  },
  {
   "cell_type": "markdown",
   "metadata": {},
   "source": [
    "To get assessment data for each student I have to get the test_order into columns. I pivot the table to do so, but this creates a multi-index. Below I flatten that multi-index and give the new columns names for the assessment_data table"
   ]
  },
  {
   "cell_type": "code",
   "execution_count": 4,
   "metadata": {
    "ExecuteTime": {
     "end_time": "2020-08-02T20:48:29.458378Z",
     "start_time": "2020-08-02T20:48:29.380096Z"
    }
   },
   "outputs": [],
   "source": [
    "assessment_data = assessment_info.pivot(index='unique_id', columns='test_order')\n",
    "ad_columns = assessment_data.columns.to_flat_index()\n",
    "new_columns = [tup[0]+'_'+tup[1] for tup in ad_columns]\n",
    "assessment_data.columns = new_columns\n",
    "assessment_data.reset_index(inplace=True)"
   ]
  },
  {
   "cell_type": "markdown",
   "metadata": {},
   "source": [
    "Calculating the difference between the submission and the deadline. A positive number means submitted before deadline, a negative number means submitted late"
   ]
  },
  {
   "cell_type": "code",
   "execution_count": 5,
   "metadata": {
    "ExecuteTime": {
     "end_time": "2020-08-02T20:48:29.494138Z",
     "start_time": "2020-08-02T20:48:29.460867Z"
    }
   },
   "outputs": [],
   "source": [
    "assessment_data['avg_submission_diff'] = ((assessment_data.deadline_TMA_1 - assessment_data.date_submitted_TMA_1) + \n",
    "                                          (assessment_data.deadline_TMA_2 - assessment_data.date_submitted_TMA_2) + \n",
    "                                          (assessment_data.deadline_TMA_3 - assessment_data.date_submitted_TMA_3))/3"
   ]
  },
  {
   "cell_type": "code",
   "execution_count": 6,
   "metadata": {
    "ExecuteTime": {
     "end_time": "2020-08-02T20:48:29.508437Z",
     "start_time": "2020-08-02T20:48:29.496694Z"
    }
   },
   "outputs": [],
   "source": [
    "assessment_data_subset = (assessment_data[['unique_id', 'score_TMA_1', 'score_TMA_2', 'score_TMA_3', 'avg_submission_diff']])"
   ]
  },
  {
   "cell_type": "markdown",
   "metadata": {},
   "source": [
    "Now add this information to the student_info table and create the central data table"
   ]
  },
  {
   "cell_type": "code",
   "execution_count": 7,
   "metadata": {
    "ExecuteTime": {
     "end_time": "2020-08-02T20:48:29.539063Z",
     "start_time": "2020-08-02T20:48:29.511848Z"
    }
   },
   "outputs": [],
   "source": [
    "data_table = student_info.merge(assessment_data_subset, how = 'left', on = 'unique_id')"
   ]
  },
  {
   "cell_type": "markdown",
   "metadata": {},
   "source": [
    "Having the average submission diff in this table shows that many students withdrew before the third exam or failed to hand in an exam and thus failed (NaN values in the column). I will drop these rows, since I am focusing on students who are still active at the time of the thrid exam."
   ]
  },
  {
   "cell_type": "code",
   "execution_count": 8,
   "metadata": {
    "ExecuteTime": {
     "end_time": "2020-08-02T20:48:29.560790Z",
     "start_time": "2020-08-02T20:48:29.545603Z"
    }
   },
   "outputs": [],
   "source": [
    "data_table.dropna(subset=['avg_submission_diff'], inplace=True)"
   ]
  },
  {
   "cell_type": "markdown",
   "metadata": {},
   "source": [
    "### Course Material Interactions"
   ]
  },
  {
   "cell_type": "code",
   "execution_count": 9,
   "metadata": {
    "ExecuteTime": {
     "end_time": "2020-08-02T20:48:51.241642Z",
     "start_time": "2020-08-02T20:48:29.565707Z"
    }
   },
   "outputs": [],
   "source": [
    "student_vle = pd.read_sql_query('''with st_vle as(\n",
    "                                        select sv.id_student || '_' || sv.code_module || '_' || sv.code_presentation as unique_id,\n",
    "                                        sv.date_day, sv.sum_click, vle.activity_type, vle.code_module, vle.code_presentation \n",
    "                                    from student_vle sv left join vle on sv.id_site = vle.id_site\n",
    "                                    where sv.code_module = 'FFF')\n",
    "\n",
    "                                    select unique_id, date_day, activity_type, sum(sum_click) as sum_clicks\n",
    "                                    from st_vle\n",
    "                                    where st_vle.activity_type in ('url', 'forumng', 'oucontent', 'resource', 'questionnaire', \n",
    "                                        'ouwiki', 'ouelluminate', 'dataplus', 'externalquiz', \n",
    "                                        'repeatactivity', 'quiz', 'glossary', 'oucollaborate')\n",
    "                                    group by unique_id, date_day, activity_type''', cnx)"
   ]
  },
  {
   "cell_type": "markdown",
   "metadata": {},
   "source": [
    "I'll be interested in student interactions specifically for each TMA test, so I am adding the assessment dates to the table"
   ]
  },
  {
   "cell_type": "code",
   "execution_count": 10,
   "metadata": {
    "ExecuteTime": {
     "end_time": "2020-08-02T20:48:51.251915Z",
     "start_time": "2020-08-02T20:48:51.244160Z"
    }
   },
   "outputs": [],
   "source": [
    "assessment_dates = assessment_data[['unique_id', 'date_submitted_TMA_1', 'date_submitted_TMA_2', 'date_submitted_TMA_3']]"
   ]
  },
  {
   "cell_type": "code",
   "execution_count": 11,
   "metadata": {
    "ExecuteTime": {
     "end_time": "2020-08-02T20:48:51.584014Z",
     "start_time": "2020-08-02T20:48:51.255724Z"
    }
   },
   "outputs": [],
   "source": [
    "student_vle = student_vle.merge(assessment_dates, how = 'left', on = 'unique_id')"
   ]
  },
  {
   "cell_type": "markdown",
   "metadata": {},
   "source": [
    "Now I can add the total interactions for the different time periods: before class, before the first exam, second exam etc. I see the before class interactions as a measure of someone preparing well"
   ]
  },
  {
   "cell_type": "code",
   "execution_count": 12,
   "metadata": {
    "ExecuteTime": {
     "end_time": "2020-08-02T20:48:51.647280Z",
     "start_time": "2020-08-02T20:48:51.587067Z"
    }
   },
   "outputs": [],
   "source": [
    "student_vle['int_before_class'] = np.where(student_vle['date_day'] < 0, student_vle.sum_clicks, 0)\n",
    "student_vle['int_before_TMA_1'] = (np.where((student_vle['date_day'] >= 0) & \n",
    "                                    (student_vle['date_day'] <= student_vle.date_submitted_TMA_1), \n",
    "                                    student_vle.sum_clicks, 0))\n",
    "student_vle['int_before_TMA_2'] = (np.where((student_vle['date_day'] > student_vle.date_submitted_TMA_1) & \n",
    "                                    (student_vle['date_day'] <= student_vle.date_submitted_TMA_2), \n",
    "                                    student_vle.sum_clicks, 0))\n",
    "student_vle['int_before_TMA_3'] = (np.where((student_vle['date_day'] > student_vle.date_submitted_TMA_2) & \n",
    "                                    (student_vle['date_day'] <= student_vle.date_submitted_TMA_3), \n",
    "                                    student_vle.sum_clicks, 0))\n"
   ]
  },
  {
   "cell_type": "markdown",
   "metadata": {},
   "source": [
    "Now I can add up the for each time period to add to the central data table"
   ]
  },
  {
   "cell_type": "code",
   "execution_count": 13,
   "metadata": {
    "ExecuteTime": {
     "end_time": "2020-08-02T20:48:51.928258Z",
     "start_time": "2020-08-02T20:48:51.649982Z"
    }
   },
   "outputs": [
    {
     "name": "stderr",
     "output_type": "stream",
     "text": [
      "/Users/stephan/anaconda3/lib/python3.7/site-packages/ipykernel_launcher.py:2: FutureWarning: Indexing with multiple keys (implicitly converted to a tuple of keys) will be deprecated, use a list instead.\n",
      "  \n"
     ]
    }
   ],
   "source": [
    "student_interactions = (student_vle.groupby('unique_id', as_index=False)\n",
    "                        ['int_before_class', 'int_before_TMA_1', 'int_before_TMA_2', 'int_before_TMA_3'].sum())"
   ]
  },
  {
   "cell_type": "code",
   "execution_count": 14,
   "metadata": {
    "ExecuteTime": {
     "end_time": "2020-08-02T20:48:51.965536Z",
     "start_time": "2020-08-02T20:48:51.931456Z"
    }
   },
   "outputs": [],
   "source": [
    "data_table = data_table.merge(student_interactions, how = 'left', on = 'unique_id')"
   ]
  },
  {
   "cell_type": "markdown",
   "metadata": {},
   "source": [
    "## Data encoding"
   ]
  },
  {
   "cell_type": "markdown",
   "metadata": {},
   "source": [
    "This is the information we need, but we still need to encode some of the categorical data. First I will transform the imd_band, a measure of poverty, to numerical. This measure is ordinal so I don't need to dummify it. The category 10-20% was mistakenly marked as a date. For the students that do not have a band I will assign the mean for that region"
   ]
  },
  {
   "cell_type": "code",
   "execution_count": 15,
   "metadata": {
    "ExecuteTime": {
     "end_time": "2020-08-02T20:48:51.980254Z",
     "start_time": "2020-08-02T20:48:51.967907Z"
    }
   },
   "outputs": [],
   "source": [
    "imd_map = {'0-10%': 0, '20-Oct': 1, '20-30%': 2, '30-40%': 3, '40-50%': 4, '50-60%': 5, \n",
    "           '60-70%': 6, '70-80%': 7, '80-90%': 8, '90-100%': 9, None : np.nan}"
   ]
  },
  {
   "cell_type": "code",
   "execution_count": 16,
   "metadata": {
    "ExecuteTime": {
     "end_time": "2020-08-02T20:48:52.010335Z",
     "start_time": "2020-08-02T20:48:51.984919Z"
    }
   },
   "outputs": [],
   "source": [
    "data_table.imd_band.replace(imd_map, inplace=True)\n",
    "data_table['imd_band'] = data_table['imd_band'].fillna(data_table.groupby('region')['imd_band'].transform('mean'))"
   ]
  },
  {
   "cell_type": "markdown",
   "metadata": {},
   "source": [
    "Same thing for the level of education, which is also ordinal"
   ]
  },
  {
   "cell_type": "code",
   "execution_count": 17,
   "metadata": {
    "ExecuteTime": {
     "end_time": "2020-08-02T20:48:52.024296Z",
     "start_time": "2020-08-02T20:48:52.013307Z"
    }
   },
   "outputs": [],
   "source": [
    "education_map = {'No Formal quals': 0, 'Lower Than A Level': 1, 'A Level or Equivalent': 2, 'HE Qualification': 3\n",
    "                , 'Post Graduate Qualification': 4}\n",
    "data_table.highest_education.replace(education_map, inplace=True)"
   ]
  },
  {
   "cell_type": "markdown",
   "metadata": {},
   "source": [
    "The final_result column is mapped to a binary outcome next. The minority class is Fail, so that will be coded as 1, the positive outcome for our classification models"
   ]
  },
  {
   "cell_type": "code",
   "execution_count": 18,
   "metadata": {
    "ExecuteTime": {
     "end_time": "2020-08-02T20:48:52.042110Z",
     "start_time": "2020-08-02T20:48:52.028272Z"
    }
   },
   "outputs": [],
   "source": [
    "result_map = {'Distinction': 0, 'Pass': 0, 'Withdrawn': 1, 'Fail': 1}\n",
    "data_table.final_result.replace(result_map, inplace=True)"
   ]
  },
  {
   "cell_type": "markdown",
   "metadata": {},
   "source": [
    "Next is the gender column, coding Male as 1"
   ]
  },
  {
   "cell_type": "code",
   "execution_count": 19,
   "metadata": {
    "ExecuteTime": {
     "end_time": "2020-08-02T20:48:52.056128Z",
     "start_time": "2020-08-02T20:48:52.046480Z"
    }
   },
   "outputs": [],
   "source": [
    "data_table['gender'] = (data_table['gender'] == 'M').astype(int)"
   ]
  },
  {
   "cell_type": "markdown",
   "metadata": {},
   "source": [
    "Same for the disability column, marking disability as 1"
   ]
  },
  {
   "cell_type": "code",
   "execution_count": 20,
   "metadata": {
    "ExecuteTime": {
     "end_time": "2020-08-02T20:48:52.071321Z",
     "start_time": "2020-08-02T20:48:52.060449Z"
    }
   },
   "outputs": [],
   "source": [
    "data_table['disability'] = (data_table['disability'] == 'Y').astype(int)"
   ]
  },
  {
   "cell_type": "markdown",
   "metadata": {},
   "source": [
    "Lastly I am going to dummify the categorical data in age_band"
   ]
  },
  {
   "cell_type": "code",
   "execution_count": 21,
   "metadata": {
    "ExecuteTime": {
     "end_time": "2020-08-02T20:48:52.095676Z",
     "start_time": "2020-08-02T20:48:52.076262Z"
    }
   },
   "outputs": [],
   "source": [
    "data_table = pd.get_dummies(data_table, columns=['age_band'], drop_first=True)"
   ]
  },
  {
   "cell_type": "markdown",
   "metadata": {},
   "source": [
    "## Write out clean dataset"
   ]
  },
  {
   "cell_type": "markdown",
   "metadata": {},
   "source": [
    "Selecting the columns to be used as features and ordering them to make life easier when modelling"
   ]
  },
  {
   "cell_type": "code",
   "execution_count": 23,
   "metadata": {
    "ExecuteTime": {
     "end_time": "2020-08-02T20:48:52.424488Z",
     "start_time": "2020-08-02T20:48:52.413741Z"
    }
   },
   "outputs": [],
   "source": [
    "data_subset = data_table[['code_presentation', 'gender', 'highest_education', 'imd_band', 'num_prev_attempts', 'studied_credits', 'disability',\n",
    "                         'age_band_35-55', 'age_band_55<=', 'score_TMA_1', 'score_TMA_2', 'score_TMA_3', 'avg_submission_diff'\n",
    "                         , 'int_before_class', 'int_before_TMA_1', 'int_before_TMA_2', 'int_before_TMA_3', 'final_result']].dropna()"
   ]
  },
  {
   "cell_type": "code",
   "execution_count": 24,
   "metadata": {
    "ExecuteTime": {
     "end_time": "2020-08-02T20:48:52.438505Z",
     "start_time": "2020-08-02T20:48:52.427387Z"
    }
   },
   "outputs": [],
   "source": [
    "data_subset.to_pickle('data_clean.pickle')"
   ]
  }
 ],
 "metadata": {
  "kernelspec": {
   "display_name": "Python 3",
   "language": "python",
   "name": "python3"
  },
  "language_info": {
   "codemirror_mode": {
    "name": "ipython",
    "version": 3
   },
   "file_extension": ".py",
   "mimetype": "text/x-python",
   "name": "python",
   "nbconvert_exporter": "python",
   "pygments_lexer": "ipython3",
   "version": "3.8.3"
  },
  "toc": {
   "base_numbering": 1,
   "nav_menu": {},
   "number_sections": true,
   "sideBar": true,
   "skip_h1_title": false,
   "title_cell": "Table of Contents",
   "title_sidebar": "Contents",
   "toc_cell": false,
   "toc_position": {},
   "toc_section_display": true,
   "toc_window_display": false
  }
 },
 "nbformat": 4,
 "nbformat_minor": 4
}
